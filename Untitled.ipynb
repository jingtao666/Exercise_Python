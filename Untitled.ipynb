{
 "cells": [
  {
   "cell_type": "code",
   "execution_count": 2,
   "id": "95302ea8",
   "metadata": {},
   "outputs": [],
   "source": [
    "# DAY 02\n",
    "\n",
    "# 导入模块\n",
    "import numpy                  # 导入整个模块\n",
    "import numpy as np            # 导入模块并使用简称；使用as关键字命名简称\n",
    "from scipy.stats import norm  # 导入模块的某部分；使用from关键词"
   ]
  },
  {
   "cell_type": "code",
   "execution_count": 23,
   "id": "7b0bdde9",
   "metadata": {},
   "outputs": [
    {
     "name": "stdout",
     "output_type": "stream",
     "text": [
      "Time cost of funl is  0.000051\n"
     ]
    }
   ],
   "source": [
    "# Exercise 01\n",
    "import timeit\n",
    "\n",
    "def funl(x,y):\n",
    "    return x**2 + y**3\n",
    "\n",
    "t_start = timeit.default_timer()\n",
    "z = funl(109.2,367.1)\n",
    "t_end = timeit.default_timer()\n",
    "\n",
    "cost = t_end-t_start  # 获取计算机运行特定代码所需的时间\n",
    "print('Time cost of funl is  %f' %cost)"
   ]
  },
  {
   "cell_type": "code",
   "execution_count": 22,
   "id": "899b1bee",
   "metadata": {},
   "outputs": [
    {
     "data": {
      "text/plain": [
       "array([2.+0.j, 3.+0.j, 6.+0.j, 7.+1.j])"
      ]
     },
     "execution_count": 22,
     "metadata": {},
     "output_type": "execute_result"
    }
   ],
   "source": [
    "# 创建ndarray\n",
    "import numpy as np \n",
    "\n",
    "np.array([2,3,6,7])\n",
    "\n",
    "np.array([2,3,6,7.])\n",
    "\n",
    "np.array( [2,3,6,7+1j])\n"
   ]
  },
  {
   "cell_type": "code",
   "execution_count": 56,
   "id": "e977f060",
   "metadata": {},
   "outputs": [
    {
     "data": {
      "text/plain": [
       "array([0.   , 0.625, 1.25 , 1.875, 2.5  ])"
      ]
     },
     "execution_count": 56,
     "metadata": {},
     "output_type": "execute_result"
    }
   ],
   "source": [
    "# 创建均匀间隔的数组\n",
    "# range(start,stop,step,dtype)\n",
    "\n",
    "np.arange(5)\n",
    "\n",
    "np.arange(10,100,20,dtype=float)\n",
    "\n",
    "# linspace(start,stop,num,dtype)\n",
    "np.linspace(0.,2.5,5)"
   ]
  },
  {
   "cell_type": "code",
   "execution_count": 62,
   "id": "587fa151",
   "metadata": {},
   "outputs": [
    {
     "name": "stderr",
     "output_type": "stream",
     "text": [
      "<>:3: SyntaxWarning: list indices must be integers or slices, not tuple; perhaps you missed a comma?\n",
      "<>:3: SyntaxWarning: list indices must be integers or slices, not tuple; perhaps you missed a comma?\n",
      "<ipython-input-62-04801fa6f7bf>:3: SyntaxWarning: list indices must be integers or slices, not tuple; perhaps you missed a comma?\n",
      "  a = np.array([[1,2,3] [4,5,6]])\n"
     ]
    },
    {
     "ename": "TypeError",
     "evalue": "list indices must be integers or slices, not tuple",
     "output_type": "error",
     "traceback": [
      "\u001b[1;31m---------------------------------------------------------------------------\u001b[0m",
      "\u001b[1;31mTypeError\u001b[0m                                 Traceback (most recent call last)",
      "\u001b[1;32m<ipython-input-62-04801fa6f7bf>\u001b[0m in \u001b[0;36m<module>\u001b[1;34m\u001b[0m\n\u001b[0;32m      1\u001b[0m \u001b[1;31m# 创建多维数组矩阵\u001b[0m\u001b[1;33m\u001b[0m\u001b[1;33m\u001b[0m\u001b[1;33m\u001b[0m\u001b[0m\n\u001b[0;32m      2\u001b[0m \u001b[1;32mimport\u001b[0m \u001b[0mnumpy\u001b[0m \u001b[1;32mas\u001b[0m \u001b[0mnp\u001b[0m\u001b[1;33m\u001b[0m\u001b[1;33m\u001b[0m\u001b[0m\n\u001b[1;32m----> 3\u001b[1;33m \u001b[0ma\u001b[0m \u001b[1;33m=\u001b[0m \u001b[0mnp\u001b[0m\u001b[1;33m.\u001b[0m\u001b[0marray\u001b[0m\u001b[1;33m(\u001b[0m\u001b[1;33m[\u001b[0m\u001b[1;33m[\u001b[0m\u001b[1;36m1\u001b[0m\u001b[1;33m,\u001b[0m\u001b[1;36m2\u001b[0m\u001b[1;33m,\u001b[0m\u001b[1;36m3\u001b[0m\u001b[1;33m]\u001b[0m \u001b[1;33m[\u001b[0m\u001b[1;36m4\u001b[0m\u001b[1;33m,\u001b[0m\u001b[1;36m5\u001b[0m\u001b[1;33m,\u001b[0m\u001b[1;36m6\u001b[0m\u001b[1;33m]\u001b[0m\u001b[1;33m]\u001b[0m\u001b[1;33m)\u001b[0m\u001b[1;33m\u001b[0m\u001b[1;33m\u001b[0m\u001b[0m\n\u001b[0m\u001b[0;32m      4\u001b[0m \u001b[1;33m\u001b[0m\u001b[0m\n",
      "\u001b[1;31mTypeError\u001b[0m: list indices must be integers or slices, not tuple"
     ]
    }
   ],
   "source": [
    "# 创建多维数组矩阵\n",
    "import numpy as np \n",
    "a = np.array([[1,2,3] [4,5,6]])\n",
    "a = np.array([[l,2,3] [4,5,6]])\n",
    "\n"
   ]
  },
  {
   "cell_type": "code",
   "execution_count": 72,
   "id": "af50ab1e",
   "metadata": {},
   "outputs": [
    {
     "ename": "SyntaxError",
     "evalue": "invalid character in identifier (<ipython-input-72-e900949b9f88>, line 1)",
     "output_type": "error",
     "traceback": [
      "\u001b[1;36m  File \u001b[1;32m\"<ipython-input-72-e900949b9f88>\"\u001b[1;36m, line \u001b[1;32m1\u001b[0m\n\u001b[1;33m    a = np.array([[1, 2, 3]  [4, 5, 6]])\u001b[0m\n\u001b[1;37m                           ^\u001b[0m\n\u001b[1;31mSyntaxError\u001b[0m\u001b[1;31m:\u001b[0m invalid character in identifier\n"
     ]
    }
   ],
   "source": [
    "a = np.array([[1, 2, 3]  [4, 5, 6]])\n"
   ]
  }
 ],
 "metadata": {
  "kernelspec": {
   "display_name": "Python 3",
   "language": "python",
   "name": "python3"
  },
  "language_info": {
   "codemirror_mode": {
    "name": "ipython",
    "version": 3
   },
   "file_extension": ".py",
   "mimetype": "text/x-python",
   "name": "python",
   "nbconvert_exporter": "python",
   "pygments_lexer": "ipython3",
   "version": "3.8.8"
  }
 },
 "nbformat": 4,
 "nbformat_minor": 5
}
