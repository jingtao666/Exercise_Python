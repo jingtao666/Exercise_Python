{
 "cells": [
  {
   "cell_type": "code",
   "execution_count": 2,
   "id": "95302ea8",
   "metadata": {},
   "outputs": [],
   "source": [
    "# DAY 02\n",
    "\n",
    "# 导入模块\n",
    "import numpy                  # 导入整个模块\n",
    "import numpy as np            # 导入模块并使用简称；使用as关键字命名简称\n",
    "from scipy.stats import norm  # 导入模块的某部分；使用from关键词"
   ]
  },
  {
   "cell_type": "code",
   "execution_count": 23,
   "id": "7b0bdde9",
   "metadata": {},
   "outputs": [
    {
     "name": "stdout",
     "output_type": "stream",
     "text": [
      "Time cost of funl is  0.000051\n"
     ]
    }
   ],
   "source": [
    "# Exercise 01\n",
    "import timeit\n",
    "\n",
    "def funl(x,y):\n",
    "    return x**2 + y**3\n",
    "\n",
    "t_start = timeit.default_timer()\n",
    "z = funl(109.2,367.1)\n",
    "t_end = timeit.default_timer()\n",
    "\n",
    "cost = t_end-t_start  # 获取计算机运行特定代码所需的时间\n",
    "print('Time cost of funl is  %f' %cost)"
   ]
  },
  {
   "cell_type": "code",
   "execution_count": 28,
   "id": "899b1bee",
   "metadata": {},
   "outputs": [
    {
     "data": {
      "text/plain": [
       "array([2.+0.j, 3.+0.j, 6.+0.j, 7.+1.j])"
      ]
     },
     "execution_count": 28,
     "metadata": {},
     "output_type": "execute_result"
    }
   ],
   "source": [
    "# 创建ndarray\n",
    "import numpy as np \n",
    "\n",
    "np.array([2,3,6,7])\n",
    "\n",
    "np.array([2,3,6,7.])\n",
    "\n",
    "np.array( [2,3,6,7+1j]) "
   ]
  },
  {
   "cell_type": "code",
   "execution_count": null,
   "id": "e977f060",
   "metadata": {},
   "outputs": [],
   "source": []
  },
  {
   "cell_type": "code",
   "execution_count": null,
   "id": "587fa151",
   "metadata": {},
   "outputs": [],
   "source": []
  }
 ],
 "metadata": {
  "kernelspec": {
   "display_name": "Python 3",
   "language": "python",
   "name": "python3"
  },
  "language_info": {
   "codemirror_mode": {
    "name": "ipython",
    "version": 3
   },
   "file_extension": ".py",
   "mimetype": "text/x-python",
   "name": "python",
   "nbconvert_exporter": "python",
   "pygments_lexer": "ipython3",
   "version": "3.8.8"
  }
 },
 "nbformat": 4,
 "nbformat_minor": 5
}
